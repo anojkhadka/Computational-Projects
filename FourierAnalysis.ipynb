{
 "cells": [
  {
   "cell_type": "markdown",
   "id": "da3fe374-c155-491e-acc1-391b05634a28",
   "metadata": {},
   "source": [
    "### Signal processing has its root in Fourier Analysis\n",
    "\n",
    "We use Maclaurin's series expansion to approximate a function which is continuous and for which the higher order derivative exists. Remember, Maclaurin series is a Taylor's series of a function expanded at reference point 0. For instance, Maclaurin's expansion of $sin(x)$ is given by:\n",
    "\n",
    "$$sin(x) = x - \\frac{x^3}{6} + \\frac{x^5}{120}$$ \n",
    "\n",
    "This comes from the Maclaurin's series expansion of $sin(x)$.\n",
    "\n",
    "Maclaurin's series expansion is given by:\n",
    "\n",
    "$$ f(x) = \\sum_{n=0}^{\\infty} \\frac{f^{n}(0)}{n!}x^n  $$\n",
    "\n",
    "Higher order derivatives for function $sin(x)$ exists and is a continuous function so it can be approximated to the desired accuracy(provided that required computational resource exists) using Maclaurin's series expansion. But how would we model a discontinuous function such as one defined below:\n",
    "\n",
    "$$f(x) = x$$\n",
    "in the range -2<x<2. Grpahically this function looks as shown below. \n",
    "\n",
    "\n",
    "\n"
   ]
  },
  {
   "cell_type": "markdown",
   "id": "6fc16374-564c-4ea1-97b8-07fc08fdf108",
   "metadata": {},
   "source": [
    "![Function Graph](sawtooth.jpg)"
   ]
  },
  {
   "cell_type": "markdown",
   "id": "3d8d69fd-dea0-4443-81e1-4e6fedbb620a",
   "metadata": {},
   "source": [
    "We can model such discontinuous function using Fourier series given by:\n",
    "\n",
    "$$ f(x) = \\frac{a_{0}}{2} + \\sum_{n=1}^{\\infty}\\left[ a_{n}Cos\\left(\\frac{2n\\pi x}{L}\\right) + b_{n}Sin\\left(\\frac{2n\\pi x}{L}\\right) \\right]  $$\n",
    "\n",
    "Refer \\url{https://mathworld.wolfram.com/FourierSeries.html}{this source} for theoretical aspect of fourier seiries. \n",
    "\n",
    "Given function in the example is an odd function so the function can only be modelled with coefficient $b_{n}$ as all the $a_{n}, a_{0}$ coefficient will be zero for odd function. Using Fourier integral for fourier coefficient $b_{n}$ I got the value  \n",
    "$$ b_{n} =  \\frac{4 (-1)^{n+1}}{n \\pi}  $$\n",
    "\n",
    "Hence, given function will be modelled by the fourier series expression below. \n",
    "\n",
    "$$ f(x) = \\sum_{n=1}^{\\infty} \\left[ \\frac{4 (-1)^{n+1}}{n \\pi} Sin\\left(\\frac{n \\pi x}{2}\\right) \\right] $$\n",
    "\n",
    "Using this result we can visualize how given function will be modelled if we take fourier series sum for various number of terms in above series. Below is a graph there shows how the actual function(in blue) will be modelled by fourier series when we take a sum of 1, 5, 25 and 125 terms. As we can see as we approximate with larger and larger number of terms in the series given function is more and more accurately represented. \n",
    "\n",
    "This is the power of fourier series that it can be used to model discontinuous function. Discrete fourier transform and fast fourier transform are the successive results that arises on the foundationi of fourier analysis. All modern electronic devices such as cell phones, radio communication, etc use this idea of fast fourier transform in signal processing. Once again, mathematics lies at the base of the beauty of everything. "
   ]
  },
  {
   "cell_type": "markdown",
   "id": "83d35a0b-2229-4d34-b829-df16bd82e9ef",
   "metadata": {},
   "source": [
    "![Fourier Graph](fouriermodelling.jpg)"
   ]
  },
  {
   "cell_type": "markdown",
   "id": "164958e4-d211-49c5-b436-96d2cd65c272",
   "metadata": {},
   "source": []
  },
  {
   "cell_type": "code",
   "execution_count": null,
   "id": "900cb3e0-4024-48c1-a2a8-acf6a8afd09c",
   "metadata": {},
   "outputs": [],
   "source": []
  }
 ],
 "metadata": {
  "kernelspec": {
   "display_name": "Python 3 (ipykernel)",
   "language": "python",
   "name": "python3"
  },
  "language_info": {
   "codemirror_mode": {
    "name": "ipython",
    "version": 3
   },
   "file_extension": ".py",
   "mimetype": "text/x-python",
   "name": "python",
   "nbconvert_exporter": "python",
   "pygments_lexer": "ipython3",
   "version": "3.11.7"
  }
 },
 "nbformat": 4,
 "nbformat_minor": 5
}
