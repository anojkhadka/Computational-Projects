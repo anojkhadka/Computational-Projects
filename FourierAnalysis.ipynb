{
 "cells": [
  {
   "cell_type": "markdown",
   "id": "da3fe374-c155-491e-acc1-391b05634a28",
   "metadata": {},
   "source": [
    "We use Maclaurin's series expansion to approximate a function which is continuous and for which the higher order derivative exists. Remember, Maclaurin series is a Taylor's series of a function expanded at reference point 0. For instance, Maclaurin's expansion of $sin(x)$ is given by:\n",
    "\n",
    "$$sin(x) = x - \\frac{x^3}{6} + \\frac{x^5}{120}$$ \n",
    "\n",
    "This comes from the Maclaurin's series expansion of $sin(x)$.\n",
    "\n",
    "Maclaurin's series expansion is given by:\n",
    "\n",
    "$$ f(x) = \\sum_{n=0}^{\\infty} \\frac{f^{n}(0)}{n!}x^n  $$\n",
    "\n",
    "Higher order derivatives for function $sin(x)$ exists and is a continuous function so it can be approximated to the desired accuracy(provided that required computational resource exists) using Maclaurin's series expansion. But how would we model a discontinuous function, for example, defined as:\n",
    "\n",
    "$f(x) = x$ where  -2<x<2"
   ]
  },
  {
   "cell_type": "markdown",
   "id": "83d35a0b-2229-4d34-b829-df16bd82e9ef",
   "metadata": {},
   "source": [
    "![Fourier Graph](fouriermodelling.jpg)"
   ]
  },
  {
   "cell_type": "markdown",
   "id": "164958e4-d211-49c5-b436-96d2cd65c272",
   "metadata": {},
   "source": []
  },
  {
   "cell_type": "code",
   "execution_count": null,
   "id": "900cb3e0-4024-48c1-a2a8-acf6a8afd09c",
   "metadata": {},
   "outputs": [],
   "source": []
  }
 ],
 "metadata": {
  "kernelspec": {
   "display_name": "Python 3 (ipykernel)",
   "language": "python",
   "name": "python3"
  },
  "language_info": {
   "codemirror_mode": {
    "name": "ipython",
    "version": 3
   },
   "file_extension": ".py",
   "mimetype": "text/x-python",
   "name": "python",
   "nbconvert_exporter": "python",
   "pygments_lexer": "ipython3",
   "version": "3.11.7"
  }
 },
 "nbformat": 4,
 "nbformat_minor": 5
}
